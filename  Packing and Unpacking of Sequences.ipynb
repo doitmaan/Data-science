{
 "cells": [
  {
   "cell_type": "code",
   "execution_count": 1,
   "metadata": {},
   "outputs": [],
   "source": [
    "#Python provides two additional conveniences involving the treatment of tuples and\n",
    "#other sequence types. The first is rather cosmetic. If a series of comma-separated\n",
    "#expressions are given in a larger context, they will be treated as a single tuple, even\n",
    "#if no enclosing parentheses are provided. For example, the assignment\n",
    "#data = 2, 4, 6, 8"
   ]
  },
  {
   "cell_type": "code",
   "execution_count": 2,
   "metadata": {},
   "outputs": [],
   "source": [
    "#results in identifier, data, being assigned to the tuple (2, 4, 6, 8). This behavior\n",
    "#is called automatic packing of a tuple"
   ]
  },
  {
   "cell_type": "code",
   "execution_count": 3,
   "metadata": {},
   "outputs": [],
   "source": [
    "#One common use of packing in Python is\n",
    "#when returning multiple values from a function. If the body of a function executes\n",
    "#the command,\n",
    "#return x, y\n",
    "#it will be formally returning a single object that is the tuple (x, y)"
   ]
  },
  {
   "cell_type": "code",
   "execution_count": 4,
   "metadata": {},
   "outputs": [],
   "source": [
    "#Python can automatically unpack a sequence,\n",
    "#allowing one to assign a series of individual identifiers to the elements\n",
    "#of sequence. As an example, we can write\n",
    "a, b, c, d = range(7, 11)\n",
    "#which has the effect of assigning a=7, b=8, c=9, and d=10, as those are the four\n",
    "#values in the sequence returned by the call to range."
   ]
  },
  {
   "cell_type": "code",
   "execution_count": 5,
   "metadata": {},
   "outputs": [
    {
     "data": {
      "text/plain": [
       "(7, 8, 9, 10)"
      ]
     },
     "execution_count": 5,
     "metadata": {},
     "output_type": "execute_result"
    }
   ],
   "source": [
    "a, b, c, d"
   ]
  },
  {
   "cell_type": "code",
   "execution_count": 6,
   "metadata": {},
   "outputs": [],
   "source": [
    "#This technique can be used to unpack tuples returned by a function. For example,\n",
    "#the built-in function, divmod(a, b), returns the pair of values (a // b, a % b)\n",
    "#associated with an integer division. Although the caller can consider the return\n",
    "#value to be a single tuple, it is possible to write\n",
    "quotient, remainder = divmod(a, b)"
   ]
  },
  {
   "cell_type": "code",
   "execution_count": 7,
   "metadata": {},
   "outputs": [
    {
     "data": {
      "text/plain": [
       "(0, 7)"
      ]
     },
     "execution_count": 7,
     "metadata": {},
     "output_type": "execute_result"
    }
   ],
   "source": [
    "quotient, remainder"
   ]
  },
  {
   "cell_type": "code",
   "execution_count": 13,
   "metadata": {},
   "outputs": [
    {
     "name": "stdout",
     "output_type": "stream",
     "text": [
      "7 2\n",
      "5 8\n",
      "6 4\n"
     ]
    }
   ],
   "source": [
    "for x, y in [ (7, 2), (5, 8), (6, 4) ]:\n",
    "    print (x,y)"
   ]
  },
  {
   "cell_type": "code",
   "execution_count": 16,
   "metadata": {},
   "outputs": [],
   "source": [
    "mapping={\n",
    "  \"brand\": \"Ford\",\n",
    "  \"model\": \"Mustang\",\n",
    "  \"year\": 1964\n",
    "}"
   ]
  },
  {
   "cell_type": "code",
   "execution_count": 17,
   "metadata": {},
   "outputs": [
    {
     "name": "stdout",
     "output_type": "stream",
     "text": [
      "brand Ford\n",
      "model Mustang\n",
      "year 1964\n"
     ]
    }
   ],
   "source": [
    "#This style of loop is quite commonly used to iterate through\n",
    "#key-value pairs that are returned by the items( ) method of the dict class, as in:\n",
    "for k, v in mapping.items( ):\n",
    "    print(k,v)"
   ]
  },
  {
   "cell_type": "code",
   "execution_count": null,
   "metadata": {},
   "outputs": [],
   "source": []
  }
 ],
 "metadata": {
  "kernelspec": {
   "display_name": "Python 3",
   "language": "python",
   "name": "python3"
  },
  "language_info": {
   "codemirror_mode": {
    "name": "ipython",
    "version": 3
   },
   "file_extension": ".py",
   "mimetype": "text/x-python",
   "name": "python",
   "nbconvert_exporter": "python",
   "pygments_lexer": "ipython3",
   "version": "3.6.5"
  }
 },
 "nbformat": 4,
 "nbformat_minor": 2
}
