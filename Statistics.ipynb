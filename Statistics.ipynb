{
 "cells": [
  {
   "cell_type": "code",
   "execution_count": 16,
   "metadata": {},
   "outputs": [],
   "source": [
    "num_friends = [100, 49, 41, 40, 25,\n",
    "# ... and lots more\n",
    "]"
   ]
  },
  {
   "cell_type": "code",
   "execution_count": 17,
   "metadata": {},
   "outputs": [],
   "source": [
    "from collections import Counter\n",
    "\n",
    "friend_counts = Counter(num_friends)"
   ]
  },
  {
   "cell_type": "code",
   "execution_count": 18,
   "metadata": {},
   "outputs": [
    {
     "data": {
      "text/plain": [
       "Counter({100: 1, 49: 1, 41: 1, 40: 1, 25: 1})"
      ]
     },
     "execution_count": 18,
     "metadata": {},
     "output_type": "execute_result"
    }
   ],
   "source": [
    "friend_counts#dict "
   ]
  },
  {
   "cell_type": "code",
   "execution_count": 19,
   "metadata": {},
   "outputs": [],
   "source": [
    "xs = range(101) # largest value is 100"
   ]
  },
  {
   "cell_type": "code",
   "execution_count": 20,
   "metadata": {},
   "outputs": [],
   "source": [
    "ys = [friend_counts[x] for x in xs] # height is just # of friends"
   ]
  },
  {
   "cell_type": "code",
   "execution_count": 21,
   "metadata": {},
   "outputs": [
    {
     "data": {
      "text/plain": [
       "range(0, 101)"
      ]
     },
     "execution_count": 21,
     "metadata": {},
     "output_type": "execute_result"
    }
   ],
   "source": [
    "xs"
   ]
  },
  {
   "cell_type": "code",
   "execution_count": 22,
   "metadata": {},
   "outputs": [
    {
     "data": {
      "text/plain": [
       "[0,\n",
       " 0,\n",
       " 0,\n",
       " 0,\n",
       " 0,\n",
       " 0,\n",
       " 0,\n",
       " 0,\n",
       " 0,\n",
       " 0,\n",
       " 0,\n",
       " 0,\n",
       " 0,\n",
       " 0,\n",
       " 0,\n",
       " 0,\n",
       " 0,\n",
       " 0,\n",
       " 0,\n",
       " 0,\n",
       " 0,\n",
       " 0,\n",
       " 0,\n",
       " 0,\n",
       " 0,\n",
       " 1,\n",
       " 0,\n",
       " 0,\n",
       " 0,\n",
       " 0,\n",
       " 0,\n",
       " 0,\n",
       " 0,\n",
       " 0,\n",
       " 0,\n",
       " 0,\n",
       " 0,\n",
       " 0,\n",
       " 0,\n",
       " 0,\n",
       " 1,\n",
       " 1,\n",
       " 0,\n",
       " 0,\n",
       " 0,\n",
       " 0,\n",
       " 0,\n",
       " 0,\n",
       " 0,\n",
       " 1,\n",
       " 0,\n",
       " 0,\n",
       " 0,\n",
       " 0,\n",
       " 0,\n",
       " 0,\n",
       " 0,\n",
       " 0,\n",
       " 0,\n",
       " 0,\n",
       " 0,\n",
       " 0,\n",
       " 0,\n",
       " 0,\n",
       " 0,\n",
       " 0,\n",
       " 0,\n",
       " 0,\n",
       " 0,\n",
       " 0,\n",
       " 0,\n",
       " 0,\n",
       " 0,\n",
       " 0,\n",
       " 0,\n",
       " 0,\n",
       " 0,\n",
       " 0,\n",
       " 0,\n",
       " 0,\n",
       " 0,\n",
       " 0,\n",
       " 0,\n",
       " 0,\n",
       " 0,\n",
       " 0,\n",
       " 0,\n",
       " 0,\n",
       " 0,\n",
       " 0,\n",
       " 0,\n",
       " 0,\n",
       " 0,\n",
       " 0,\n",
       " 0,\n",
       " 0,\n",
       " 0,\n",
       " 0,\n",
       " 0,\n",
       " 0,\n",
       " 1]"
      ]
     },
     "execution_count": 22,
     "metadata": {},
     "output_type": "execute_result"
    }
   ],
   "source": [
    "ys"
   ]
  },
  {
   "cell_type": "code",
   "execution_count": 23,
   "metadata": {},
   "outputs": [
    {
     "data": {
      "text/plain": [
       "<Figure size 640x480 with 1 Axes>"
      ]
     },
     "metadata": {},
     "output_type": "display_data"
    }
   ],
   "source": [
    "import matplotlib.pyplot as plt\n",
    "\n",
    "plt.bar(xs, ys)\n",
    "plt.axis([0, 101, 0, 25])\n",
    "plt.title(\"Histogram of Friend Counts\")\n",
    "plt.xlabel(\"# of friends\")\n",
    "plt.ylabel(\"# of people\")\n",
    "plt.show()"
   ]
  },
  {
   "cell_type": "code",
   "execution_count": 24,
   "metadata": {},
   "outputs": [],
   "source": [
    "num_points = len(num_friends)"
   ]
  },
  {
   "cell_type": "code",
   "execution_count": 25,
   "metadata": {},
   "outputs": [
    {
     "data": {
      "text/plain": [
       "5"
      ]
     },
     "execution_count": 25,
     "metadata": {},
     "output_type": "execute_result"
    }
   ],
   "source": [
    "num_points"
   ]
  },
  {
   "cell_type": "code",
   "execution_count": 26,
   "metadata": {},
   "outputs": [],
   "source": [
    "largest_value = max(num_friends) \n",
    "smallest_value = min(num_friends)"
   ]
  },
  {
   "cell_type": "code",
   "execution_count": 27,
   "metadata": {},
   "outputs": [
    {
     "data": {
      "text/plain": [
       "100"
      ]
     },
     "execution_count": 27,
     "metadata": {},
     "output_type": "execute_result"
    }
   ],
   "source": [
    "largest_value"
   ]
  },
  {
   "cell_type": "code",
   "execution_count": 28,
   "metadata": {},
   "outputs": [
    {
     "data": {
      "text/plain": [
       "25"
      ]
     },
     "execution_count": 28,
     "metadata": {},
     "output_type": "execute_result"
    }
   ],
   "source": [
    "smallest_value"
   ]
  },
  {
   "cell_type": "code",
   "execution_count": 29,
   "metadata": {},
   "outputs": [],
   "source": [
    "sorted_values = sorted(num_friends)"
   ]
  },
  {
   "cell_type": "code",
   "execution_count": 30,
   "metadata": {},
   "outputs": [
    {
     "data": {
      "text/plain": [
       "[25, 40, 41, 49, 100]"
      ]
     },
     "execution_count": 30,
     "metadata": {},
     "output_type": "execute_result"
    }
   ],
   "source": [
    "sorted_values"
   ]
  },
  {
   "cell_type": "code",
   "execution_count": 31,
   "metadata": {},
   "outputs": [
    {
     "data": {
      "text/plain": [
       "25"
      ]
     },
     "execution_count": 31,
     "metadata": {},
     "output_type": "execute_result"
    }
   ],
   "source": [
    "smallest_value = sorted_values[0]\n",
    "smallest_value"
   ]
  },
  {
   "cell_type": "code",
   "execution_count": 32,
   "metadata": {},
   "outputs": [],
   "source": [
    "second_smallest_value = sorted_values[1] \n",
    "second_largest_value = sorted_values[-2]"
   ]
  },
  {
   "cell_type": "code",
   "execution_count": 33,
   "metadata": {},
   "outputs": [
    {
     "data": {
      "text/plain": [
       "40"
      ]
     },
     "execution_count": 33,
     "metadata": {},
     "output_type": "execute_result"
    }
   ],
   "source": [
    "second_smallest_value"
   ]
  },
  {
   "cell_type": "code",
   "execution_count": 34,
   "metadata": {},
   "outputs": [
    {
     "data": {
      "text/plain": [
       "49"
      ]
     },
     "execution_count": 34,
     "metadata": {},
     "output_type": "execute_result"
    }
   ],
   "source": [
    "second_largest_value"
   ]
  },
  {
   "cell_type": "code",
   "execution_count": 35,
   "metadata": {},
   "outputs": [],
   "source": [
    "#Central Tendencies"
   ]
  },
  {
   "cell_type": "code",
   "execution_count": 36,
   "metadata": {},
   "outputs": [
    {
     "data": {
      "text/plain": [
       "51.0"
      ]
     },
     "execution_count": 36,
     "metadata": {},
     "output_type": "execute_result"
    }
   ],
   "source": [
    "# this isn't right if you don't from __future__ import division\n",
    "def mean(x):\n",
    "    return sum(x) / len(x)\n",
    "mean(num_friends) "
   ]
  },
  {
   "cell_type": "code",
   "execution_count": 37,
   "metadata": {},
   "outputs": [],
   "source": [
    "# We’ll also sometimes be interested in the median, which is the middle-most value (if the\n",
    "# number of data points is odd) or the average of the two middle-most values (if the number\n",
    "# of data points is even)."
   ]
  },
  {
   "cell_type": "code",
   "execution_count": 38,
   "metadata": {},
   "outputs": [],
   "source": [
    "def median(v):\n",
    "    \"\"\"finds the 'middle-most' value of v\"\"\"\n",
    "    n = len(v)\n",
    "    sorted_v = sorted(v)\n",
    "    midpoint = n // 2\n",
    "    if n % 2 == 1:\n",
    "    # if odd, return the middle value\n",
    "        return sorted_v[midpoint]\n",
    "    else:\n",
    "        # if even, return the average of the middle values\n",
    "        lo = midpoint - 1\n",
    "        hi = midpoint\n",
    "    \n",
    "        return (sorted_v[lo] + sorted_v[hi]) / 2"
   ]
  },
  {
   "cell_type": "code",
   "execution_count": 39,
   "metadata": {},
   "outputs": [
    {
     "data": {
      "text/plain": [
       "41"
      ]
     },
     "execution_count": 39,
     "metadata": {},
     "output_type": "execute_result"
    }
   ],
   "source": [
    "median(num_friends)"
   ]
  },
  {
   "cell_type": "code",
   "execution_count": 40,
   "metadata": {},
   "outputs": [],
   "source": [
    "# for quick select the way to sort faster "
   ]
  },
  {
   "cell_type": "code",
   "execution_count": 41,
   "metadata": {},
   "outputs": [],
   "source": [
    "def quickselect(items, item_index):\n",
    "\n",
    "    def select(lst, l, r, index):\n",
    "\n",
    "        # base case\n",
    "        if r == l:\n",
    "            return lst[l]\n",
    "\n",
    "        # choose random pivot\n",
    "        pivot_index = random.randint(l, r)\n",
    "\n",
    "        # move pivot to beginning of list\n",
    "        lst[l], lst[pivot_index] = lst[pivot_index], lst[l]\n",
    "\n",
    "        # partition\n",
    "        i = l\n",
    "        for j in xrange(l+1, r+1):\n",
    "            if lst[j] < lst[l]:\n",
    "                i += 1\n",
    "                lst[i], lst[j] = lst[j], lst[i]\n",
    "\n",
    "        # move pivot to correct location\n",
    "        lst[i], lst[l] = lst[l], lst[i]\n",
    "\n",
    "        # recursively partition one side only\n",
    "        if index == i:\n",
    "            return lst[i]\n",
    "        elif index < i:\n",
    "            return select(lst, l, i-1, index)\n",
    "        else:\n",
    "            return select(lst, i+1, r, index)\n",
    "\n",
    "    if items is None or len(items) < 1:\n",
    "        return None\n",
    "\n",
    "    if item_index < 0 or item_index > len(items) - 1:\n",
    "        raise IndexError()\n",
    "\n",
    "    return select(items, 0, len(items) - 1, item_index)"
   ]
  },
  {
   "cell_type": "code",
   "execution_count": 42,
   "metadata": {},
   "outputs": [],
   "source": [
    "# At the same time, the mean is very sensitive to outliers in our data. If our friendliest user\n",
    "# had 200 friends (instead of 100), then the mean would rise to 7.82, while the median\n",
    "# would stay the same. If outliers are likely to be bad data (or otherwise unrepresentative of\n",
    "# whatever phenomenon we’re trying to understand), then the mean can sometimes give us a\n",
    "# misleading picture. For example, the story is often told that in the mid-1980s, the major at\n",
    "# the University of North Carolina with the highest average starting salary was geography,\n",
    "# mostly on account of NBA star (and outlier) Michael Jordan.\n",
    "# A generalization of the median is the quantile, which represents the value less than which\n",
    "# a certain percentile of the data lies. (The median represents the value less than which 50%\n",
    "# of the data lies.)"
   ]
  },
  {
   "cell_type": "code",
   "execution_count": 43,
   "metadata": {},
   "outputs": [],
   "source": [
    "def quantile(x, p):\n",
    "        \"\"\"returns the pth-percentile value in x\"\"\"\n",
    "        p_index = int(p * len(x))\n",
    "        return sorted(x)[p_index]"
   ]
  },
  {
   "cell_type": "code",
   "execution_count": 44,
   "metadata": {},
   "outputs": [
    {
     "data": {
      "text/plain": [
       "25"
      ]
     },
     "execution_count": 44,
     "metadata": {},
     "output_type": "execute_result"
    }
   ],
   "source": [
    "quantile(num_friends, 0.10) \n"
   ]
  },
  {
   "cell_type": "code",
   "execution_count": 45,
   "metadata": {},
   "outputs": [
    {
     "data": {
      "text/plain": [
       "40"
      ]
     },
     "execution_count": 45,
     "metadata": {},
     "output_type": "execute_result"
    }
   ],
   "source": [
    "quantile(num_friends, 0.25) \n"
   ]
  },
  {
   "cell_type": "code",
   "execution_count": 46,
   "metadata": {},
   "outputs": [
    {
     "data": {
      "text/plain": [
       "49"
      ]
     },
     "execution_count": 46,
     "metadata": {},
     "output_type": "execute_result"
    }
   ],
   "source": [
    "quantile(num_friends, 0.75) \n"
   ]
  },
  {
   "cell_type": "code",
   "execution_count": 47,
   "metadata": {},
   "outputs": [
    {
     "data": {
      "text/plain": [
       "100"
      ]
     },
     "execution_count": 47,
     "metadata": {},
     "output_type": "execute_result"
    }
   ],
   "source": [
    "quantile(num_friends, 0.90) "
   ]
  },
  {
   "cell_type": "code",
   "execution_count": 48,
   "metadata": {},
   "outputs": [],
   "source": [
    "# def mode(x):\n",
    "#     \"\"\"returns a list, might be more than one mode\"\"\"\n",
    "#     counts = Counter(x)\n",
    "#     max_count = max(counts.values())\n",
    "#     return [x_i for x_i, count in counts.elements() if count == max_count]"
   ]
  },
  {
   "cell_type": "code",
   "execution_count": 49,
   "metadata": {},
   "outputs": [],
   "source": [
    "# mode(num_friends)"
   ]
  },
  {
   "cell_type": "code",
   "execution_count": 50,
   "metadata": {},
   "outputs": [],
   "source": [
    "#Python statistics | mode function"
   ]
  },
  {
   "cell_type": "code",
   "execution_count": 51,
   "metadata": {},
   "outputs": [],
   "source": [
    "# Syntax :\n",
    "# mode([data-set])\n",
    "# Parameters : \n",
    "# [data-set] which is a tuple, list or a iterator of \n",
    "# real valued numbers as well as Strings.\n",
    "# Return type : \n",
    "# Returns the most-common data point from discrete or nominal data.\n",
    "# Errors and Exceptions : \n",
    "# Raises StatisticsError when there are two modes \n",
    "# present in a single list, or when data set is empty ."
   ]
  },
  {
   "cell_type": "code",
   "execution_count": 52,
   "metadata": {},
   "outputs": [
    {
     "name": "stdout",
     "output_type": "stream",
     "text": [
      "Mode of given data set is 4\n"
     ]
    }
   ],
   "source": [
    "# Python code to demonstrate the  \n",
    "# use of mode() function \n",
    "  \n",
    "# mode() function a sub-set of the statistics module \n",
    "# We need to import statistics module before doing any work \n",
    "import statistics \n",
    "  \n",
    "# declaring a simple data-set consisting of real valued \n",
    "# positive integers. \n",
    "set1 =[1, 2, 3, 3, 4, 4, 4, 5, 5, 6] \n",
    "  \n",
    "# In the given data-set \n",
    "# Count of 1 is 1 \n",
    "# Count of 2 is 1 \n",
    "# Count of 3 is 2 \n",
    "# Count of 4 is 3 \n",
    "# Count of 5 is 2 \n",
    "# Count of 6 is 1 \n",
    "# We can infer that 4 has the highest population distribution \n",
    "# So mode of set1 is 4 \n",
    "  \n",
    "# Printing out mode of given data-set \n",
    "print(\"Mode of given data set is % s\" % (statistics.mode(set1))) "
   ]
  },
  {
   "cell_type": "code",
   "execution_count": 53,
   "metadata": {},
   "outputs": [
    {
     "name": "stdout",
     "output_type": "stream",
     "text": [
      "Mode of data set 1 is 5\n",
      "Mode of data set 2 is 1.3\n",
      "Mode of data set 3 is 1/2\n",
      "Mode of data set 4 is -2\n",
      "Mode of data set 5 is black\n"
     ]
    }
   ],
   "source": [
    "# Python code to demonstrate the \n",
    "# working of mode() function \n",
    "# on a various range of data types \n",
    "  \n",
    "# Importing the statistics module \n",
    "from statistics import mode \n",
    "  \n",
    "# Importing fractions module as fr \n",
    "# Enables to calculate harmonic_mean of a \n",
    "# set in Fraction \n",
    "from fractions import Fraction as fr \n",
    "  \n",
    "# tuple of positive integer numbers \n",
    "data1 = (2, 3, 3, 4, 5, 5, 5, 5, 6, 6, 6, 7) \n",
    "  \n",
    "# tuple of a set of floating point values \n",
    "data2 = (2.4, 1.3, 1.3, 1.3, 2.4, 4.6) \n",
    "  \n",
    "# tuple of a set of fractional numbers \n",
    "data3 = (fr(1, 2), fr(1, 2), fr(10, 3), fr(2, 3)) \n",
    "  \n",
    "# tuple of a set of negaitve integers \n",
    "data4 = (-1, -2, -2, -2, -7, -7, -9) \n",
    "  \n",
    "# tuple of strings \n",
    "data5 = (\"red\", \"blue\", \"black\", \"blue\", \"black\", \"black\", \"brown\") \n",
    "  \n",
    "  \n",
    "# Printing out the mode of the above data-sets \n",
    "print(\"Mode of data set 1 is % s\" % (mode(data1))) \n",
    "print(\"Mode of data set 2 is % s\" % (mode(data2))) \n",
    "print(\"Mode of data set 3 is % s\" % (mode(data3))) \n",
    "print(\"Mode of data set 4 is % s\" % (mode(data4))) \n",
    "print(\"Mode of data set 5 is % s\" % (mode(data5))) "
   ]
  },
  {
   "cell_type": "code",
   "execution_count": 54,
   "metadata": {},
   "outputs": [],
   "source": [
    "# # Python code to demonstrate the  \n",
    "# # statistics error in mode function \n",
    "  \n",
    "# ''' \n",
    "# StatisticsError is raised while using mode when there are \n",
    "# two equal modes present in a data set and when the data set \n",
    "# is empty or null \n",
    "# '''\n",
    "  \n",
    "# # importing statistics module \n",
    "# import statistics \n",
    "  \n",
    "# # creating a data set consisting of two equal data-sets \n",
    "# data1 =[1, 1, 1, -1, -1, -1] \n",
    "  \n",
    "# # In the above data set \n",
    "# # Count of 1 is 3 \n",
    "# # Count of -1 is also 3 \n",
    "# # StatisticsError will be raised \n",
    "  \n",
    "# print(statistics.mode(data1)) "
   ]
  },
  {
   "cell_type": "code",
   "execution_count": 55,
   "metadata": {},
   "outputs": [],
   "source": [
    "# Dispersion refers to measures of how spread out our data is. Typically they’re statistics for\n",
    "# which values near zero signify not spread out at all and for which large values (whatever\n",
    "# that means) signify very spread out. For instance, a very simple measure is the range,\n",
    "# which is just the difference between the largest and smallest elements:"
   ]
  },
  {
   "cell_type": "code",
   "execution_count": 56,
   "metadata": {},
   "outputs": [
    {
     "data": {
      "text/plain": [
       "75"
      ]
     },
     "execution_count": 56,
     "metadata": {},
     "output_type": "execute_result"
    }
   ],
   "source": [
    "# \"range\" already means something in Python, so we'll use a different name\n",
    "def data_range(x):\n",
    "    \n",
    "    return max(x) - min(x)\n",
    "data_range(num_friends)"
   ]
  },
  {
   "cell_type": "code",
   "execution_count": 57,
   "metadata": {},
   "outputs": [
    {
     "data": {
      "text/plain": [
       "[100, 49, 41, 40, 25]"
      ]
     },
     "execution_count": 57,
     "metadata": {},
     "output_type": "execute_result"
    }
   ],
   "source": [
    " num_friends"
   ]
  },
  {
   "cell_type": "code",
   "execution_count": 58,
   "metadata": {},
   "outputs": [],
   "source": [
    "# #Like the median, the range doesn’t really depend on the whole data set. A data set whose\n",
    "# points are all either 0 or 100 has the same range as a data set whose values are 0, 100, and\n",
    "# lots of 50s. But it seems like the first data set “should” be more spread out.\n",
    "# A more complex measure of dispersion is the variance, which is computed as:"
   ]
  },
  {
   "cell_type": "code",
   "execution_count": 59,
   "metadata": {},
   "outputs": [],
   "source": [
    "def de_mean(x):\n",
    "    \"\"\"translate x by subtracting its mean (so the result has mean 0)\"\"\"\n",
    "    x_bar = mean(x)\n",
    "    return [x_i - x_bar for x_i in x]"
   ]
  },
  {
   "cell_type": "code",
   "execution_count": 60,
   "metadata": {},
   "outputs": [],
   "source": [
    "\n",
    "\n",
    "def sum_of_squares(v):\n",
    "    \"\"\"v_1 * v_1 + ... + v_n * v_n\"\"\"\n",
    "    return dot(v, v)\n",
    "\n",
    "\n",
    "def dot(v, w):\n",
    "    \"\"\"v_1 * w_1 + ... + v_n * w_n\"\"\"\n",
    "    return sum(v_i * w_i for v_i, w_i in zip(v, w))\n",
    "\n"
   ]
  },
  {
   "cell_type": "code",
   "execution_count": 61,
   "metadata": {},
   "outputs": [
    {
     "data": {
      "text/plain": [
       "825.5"
      ]
     },
     "execution_count": 61,
     "metadata": {},
     "output_type": "execute_result"
    }
   ],
   "source": [
    "def variance(x):\n",
    "    \"\"\"assumes x has at least two elements\"\"\"\n",
    "    n = len(x)\n",
    "    deviations = de_mean(x)\n",
    "    return sum_of_squares(deviations) / (n - 1)\n",
    "variance(num_friends) # validate   https://www.rapidtables.com/calc/math/variance-calculator.html"
   ]
  },
  {
   "cell_type": "code",
   "execution_count": 62,
   "metadata": {},
   "outputs": [],
   "source": [
    "import statistics "
   ]
  },
  {
   "cell_type": "code",
   "execution_count": 63,
   "metadata": {},
   "outputs": [
    {
     "data": {
      "text/plain": [
       "825.5"
      ]
     },
     "execution_count": 63,
     "metadata": {},
     "output_type": "execute_result"
    }
   ],
   "source": [
    "variance(num_friends)"
   ]
  },
  {
   "cell_type": "code",
   "execution_count": 64,
   "metadata": {},
   "outputs": [
    {
     "data": {
      "text/plain": [
       "[100, 49, 41, 40, 25]"
      ]
     },
     "execution_count": 64,
     "metadata": {},
     "output_type": "execute_result"
    }
   ],
   "source": [
    "num_friends"
   ]
  },
  {
   "cell_type": "code",
   "execution_count": 65,
   "metadata": {},
   "outputs": [],
   "source": [
    "import math "
   ]
  },
  {
   "cell_type": "code",
   "execution_count": 66,
   "metadata": {},
   "outputs": [
    {
     "data": {
      "text/plain": [
       "28.731515797117282"
      ]
     },
     "execution_count": 66,
     "metadata": {},
     "output_type": "execute_result"
    }
   ],
   "source": [
    "def standard_deviation(x):\n",
    "    return math.sqrt(variance(x))\n",
    "standard_deviation(num_friends)"
   ]
  },
  {
   "cell_type": "code",
   "execution_count": 67,
   "metadata": {},
   "outputs": [],
   "source": [
    "# Both the range and the standard deviation have the same outlier problem that we saw\n",
    "# earlier for the mean. Using the same example, if our friendliest user had instead 200\n",
    "# friends, the standard deviation would be 14.89, more than 60% higher!\n",
    "# A more robust alternative computes the difference between the 75th percentile value and\n",
    "# the 25th percentile value:"
   ]
  },
  {
   "cell_type": "code",
   "execution_count": 68,
   "metadata": {},
   "outputs": [
    {
     "data": {
      "text/plain": [
       "9"
      ]
     },
     "execution_count": 68,
     "metadata": {},
     "output_type": "execute_result"
    }
   ],
   "source": [
    "def interquartile_range(x):\n",
    "    return quantile(x, 0.75) - quantile(x, 0.25)\n",
    "interquartile_range(num_friends)"
   ]
  },
  {
   "cell_type": "code",
   "execution_count": 69,
   "metadata": {},
   "outputs": [],
   "source": [
    "#which is quite plainly unaffected by a small number of outliers."
   ]
  },
  {
   "cell_type": "code",
   "execution_count": null,
   "metadata": {},
   "outputs": [],
   "source": []
  },
  {
   "cell_type": "code",
   "execution_count": null,
   "metadata": {},
   "outputs": [],
   "source": []
  },
  {
   "cell_type": "code",
   "execution_count": null,
   "metadata": {},
   "outputs": [],
   "source": []
  },
  {
   "cell_type": "code",
   "execution_count": null,
   "metadata": {},
   "outputs": [],
   "source": []
  },
  {
   "cell_type": "code",
   "execution_count": null,
   "metadata": {},
   "outputs": [],
   "source": []
  },
  {
   "cell_type": "code",
   "execution_count": 70,
   "metadata": {},
   "outputs": [],
   "source": [
    "# a list daily_minutes that shows\n",
    "# how many minutes per day each user spends on DataSciencester, and you’ve ordered it so\n",
    "# that its elements correspond to the elements of our previous num_friends list. We’d like to\n",
    "# investigate the relationship between these two metrics.\n",
    "# We’ll first look at covariance, the paired analogue of variance. Whereas variance\n",
    "# measures how a single variable deviates from its mean, covariance measures how two\n",
    "# variables vary in tandem from their means:"
   ]
  },
  {
   "cell_type": "code",
   "execution_count": 71,
   "metadata": {},
   "outputs": [],
   "source": [
    "def covariance(x, y):\n",
    "    n = len(x)\n",
    "    return dot(de_mean(x), de_mean(y)) / (n - 1) #translating by the mean amount "
   ]
  },
  {
   "cell_type": "code",
   "execution_count": 72,
   "metadata": {},
   "outputs": [
    {
     "data": {
      "text/plain": [
       "-76.25"
      ]
     },
     "execution_count": 72,
     "metadata": {},
     "output_type": "execute_result"
    }
   ],
   "source": [
    "\n",
    "daily_minutes=[23,30,40,60,12]\n",
    "covariance(num_friends, daily_minutes)"
   ]
  },
  {
   "cell_type": "code",
   "execution_count": 73,
   "metadata": {},
   "outputs": [],
   "source": [
    "# Recall that dot sums up the products of corresponding pairs of elements. When\n",
    "# corresponding elements of x and y are either both above their means or both below their\n",
    "# means, a positive number enters the sum. When one is above its mean and the other below,\n",
    "# a negative number enters the sum. Accordingly, a “large” positive covariance means that x\n",
    "# tends to be large when y is large and small when y is small. A “large” negative covariance\n",
    "# means the opposite — that x tends to be small when y is large and vice versa."
   ]
  },
  {
   "cell_type": "code",
   "execution_count": 74,
   "metadata": {},
   "outputs": [],
   "source": [
    "#covariance close to zero means that no such relationship exists."
   ]
  },
  {
   "cell_type": "code",
   "execution_count": 75,
   "metadata": {},
   "outputs": [],
   "source": [
    "# Its units are the product of the inputs’ units (e.g., friend-minutes-per-day), which can be\n",
    "# hard to make sense of. (What’s a “friend-minute-per-day”?)\n",
    "# If each user had twice as many friends (but the same number of minutes), the\n",
    "# covariance would be twice as large. But in a sense the variables would be just as\n",
    "# interrelated. Said differently, it’s hard to say what counts as a “large” covariance.\n",
    "# For this reason, it’s more common to look at the correlation, which divides out the\n",
    "# standard deviations of both variables:"
   ]
  },
  {
   "cell_type": "code",
   "execution_count": 76,
   "metadata": {},
   "outputs": [],
   "source": [
    "def correlation(x, y):\n",
    " stdev_x = standard_deviation(x)\n",
    " stdev_y = standard_deviation(y)\n",
    " if stdev_x > 0 and stdev_y > 0:\n",
    "      return covariance(x, y) / stdev_x / stdev_y\n",
    " else:\n",
    "     return 0 # if no variation, correlation is zero"
   ]
  },
  {
   "cell_type": "code",
   "execution_count": 77,
   "metadata": {},
   "outputs": [
    {
     "data": {
      "text/plain": [
       "-0.14565059642717543"
      ]
     },
     "execution_count": 77,
     "metadata": {},
     "output_type": "execute_result"
    }
   ],
   "source": [
    "correlation(num_friends, daily_minutes)"
   ]
  },
  {
   "cell_type": "code",
   "execution_count": 78,
   "metadata": {},
   "outputs": [],
   "source": [
    "# The correlation is unitless and always lies between -1 (perfect anti-correlation) and 1\n",
    "# (perfect correlation). A number like 0.25 represents a relatively weak positive correlation."
   ]
  },
  {
   "cell_type": "code",
   "execution_count": 79,
   "metadata": {},
   "outputs": [],
   "source": [
    "# we need to npt neglect the outliers and consider their imact "
   ]
  },
  {
   "cell_type": "code",
   "execution_count": 80,
   "metadata": {},
   "outputs": [],
   "source": [
    "outlier = num_friends.index(100)"
   ]
  },
  {
   "cell_type": "code",
   "execution_count": 81,
   "metadata": {},
   "outputs": [
    {
     "data": {
      "text/plain": [
       "0.511221945137157"
      ]
     },
     "execution_count": 81,
     "metadata": {},
     "output_type": "execute_result"
    }
   ],
   "source": [
    "num_friends_good = [x\n",
    "for i, x in enumerate(num_friends)\n",
    "if i != outlier]\n",
    "daily_minutes_good = [x\n",
    "for i, x in enumerate(daily_minutes)\n",
    "if i != outlier]\n",
    "correlation(num_friends_good, daily_minutes_good)"
   ]
  },
  {
   "cell_type": "code",
   "execution_count": null,
   "metadata": {},
   "outputs": [],
   "source": []
  },
  {
   "cell_type": "code",
   "execution_count": null,
   "metadata": {},
   "outputs": [],
   "source": []
  },
  {
   "cell_type": "code",
   "execution_count": 82,
   "metadata": {},
   "outputs": [],
   "source": [
    "\n",
    "#Simpson’s Paradox"
   ]
  },
  {
   "cell_type": "code",
   "execution_count": 83,
   "metadata": {},
   "outputs": [],
   "source": [
    "# One not uncommon surprise when analyzing data is Simpson’s Paradox, in which\n",
    "# correlations can be misleading when confounding variables are ignored."
   ]
  },
  {
   "cell_type": "code",
   "execution_count": 84,
   "metadata": {},
   "outputs": [],
   "source": [
    "# One not uncommon surprise when analyzing data is Simpson’s Paradox, in which\n",
    "# # correlations can be misleading when confounding variables are ignored."
   ]
  },
  {
   "cell_type": "code",
   "execution_count": 85,
   "metadata": {},
   "outputs": [],
   "source": [
    "# The only real way to avoid this is by knowing your data and by doing what you can to\n",
    "# make sure you’ve checked for possible confounding factors"
   ]
  },
  {
   "cell_type": "code",
   "execution_count": null,
   "metadata": {},
   "outputs": [],
   "source": []
  }
 ],
 "metadata": {
  "kernelspec": {
   "display_name": "Python 3",
   "language": "python",
   "name": "python3"
  },
  "language_info": {
   "codemirror_mode": {
    "name": "ipython",
    "version": 3
   },
   "file_extension": ".py",
   "mimetype": "text/x-python",
   "name": "python",
   "nbconvert_exporter": "python",
   "pygments_lexer": "ipython3",
   "version": "3.6.5"
  }
 },
 "nbformat": 4,
 "nbformat_minor": 2
}
